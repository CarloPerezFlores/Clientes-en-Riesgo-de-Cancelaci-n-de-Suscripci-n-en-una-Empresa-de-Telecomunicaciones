{
 "cells": [
  {
   "cell_type": "markdown",
   "metadata": {},
   "source": [
    "# CONTENIDO\n",
    "\n",
    "## Introducción\n",
    "    Objetivo del Proyecto\n",
    "    Descripción del Conjunto de Datos\n",
    "\n",
    "## Análisis Exploratorio de Datos (EDA)   \n",
    "        \n",
    "## Preprocesamiento de Datos     \n",
    "        \n",
    "## Entrenamiento de Modelos de Clasificación\n",
    "    \n",
    "## Evaluación de Modelos\n",
    "    \n",
    "## Conclusiones y Recomendaciones"
   ]
  },
  {
   "cell_type": "markdown",
   "metadata": {},
   "source": [
    "# Detectar clientes que probablemente cancelen una suscripción a un servicio\n",
    "                           (Análisis de Churn en un Conjunto de Datos de Telecomunicaciones)# Detectar clientes que probablemente cancelen una suscripción a un servicio\n",
    "    \n",
    "En este proyecto, el objetivo es identificar la fuga de clientes, es decir, aquellos clientes más propensos a cancelar la suscripción a una ficticia empresa de telecomunicaciones. Es un problema realmente interesante porque si se pudiera predecir con antelación qué clientes están en riesgo de irse, se podrían reducir los esfuerzos de retención de clientes dirigiéndolos hacia esos clientes específicos, proporcionando intervenciones adecuadas para fomentar que permanezcan y minimizar las salidas de clientes.\n",
    "\n",
    "El conjunto de datos para este ejercicio contiene características de la cuenta y el uso para clientes que se fueron y clientes que no. El conjunto de datos de Telecomunicaciones fue obtenido de un repositorio público de OpenML. Se trata de un problema de clasificación supervisada y se utilizarán algoritmos de aprendizaje automático para desarrollar modelos predictivos y evaluar la precisión y el rendimiento. El objetivo es encontrar el modelo más apropiado para el negocio."
   ]
  },
  {
   "cell_type": "markdown",
   "metadata": {},
   "source": [
    "# Análisis exploratorio"
   ]
  },
  {
   "cell_type": "markdown",
   "metadata": {},
   "source": [
    "Analizaremos conjuntos de datos para resumir sus principales características, con métodos visuales y cuantitativos."
   ]
  },
  {
   "cell_type": "code",
   "execution_count": null,
   "metadata": {},
   "outputs": [],
   "source": [
    "! pip install imblearn          "
   ]
  },
  {
   "cell_type": "code",
   "execution_count": null,
   "metadata": {},
   "outputs": [],
   "source": [
    "import pandas as pd\n",
    "import matplotlib.pyplot as plt\n",
    "import seaborn as sns\n",
    "import numpy as np"
   ]
  },
  {
   "cell_type": "code",
   "execution_count": null,
   "metadata": {},
   "outputs": [],
   "source": [
    "# Ruta base donde se encuentran los archivos CSV\n",
    "ruta_base = r'D:\\Carlo\\Documentos\\Business Analyst Certificate\\TRIPLE TEN\\Sprint17\\final_provider\\final_provider'\n",
    "\n",
    "# Lista de nombres de archivos CSV que quieres leer\n",
    "archivos = ['contract.csv', 'internet.csv', 'personal.csv', 'phone.csv']\n",
    "\n",
    "dfs = []\n",
    "\n",
    "# Intentamos leer cada archivo y manejamos excepciones si ocurren\n",
    "for archivo in archivos:\n",
    "    try:\n",
    "        ruta_completa = f'{ruta_base}\\\\{archivo}'\n",
    "        df = pd.read_csv(ruta_completa)\n",
    "        dfs.append(df)\n",
    "        print(f'Se ha leído correctamente el archivo {archivo}')\n",
    "    except FileNotFoundError:\n",
    "        print(f'ERROR: No se encontró el archivo {archivo}')\n",
    "    except pd.errors.EmptyDataError:\n",
    "        print(f'ERROR: El archivo {archivo} está vacío')\n",
    "    except pd.errors.ParserError as e:\n",
    "        print(f'ERROR al leer el archivo {archivo}: {e}')\n",
    "\n",
    "# Asignamos cada DataFrame a las variables con try-except\n",
    "try:\n",
    "    df_Contract = dfs[0]\n",
    "except IndexError:\n",
    "    print(\"ERROR: No se pudo asignar df_Contract, revise si se leyó correctamente el archivo.\")\n",
    "\n",
    "try:\n",
    "    df_Internet = dfs[1]\n",
    "except IndexError:\n",
    "    print(\"ERROR: No se pudo asignar df_Internet, revise si se leyó correctamente el archivo.\")\n",
    "\n",
    "try:\n",
    "    df_Personal = dfs[2]\n",
    "except IndexError:\n",
    "    print(\"ERROR: No se pudo asignar df_Personal, revise si se leyó correctamente el archivo.\")\n",
    "\n",
    "try:\n",
    "    df_Phone = dfs[3]\n",
    "except IndexError:\n",
    "    print(\"ERROR: No se pudo asignar df_Phone, revise si se leyó correctamente el archivo.\")\n",
    "\n",
    "# Ahora puedes utilizar df_Contract, df_Internet, df_Personal, y df_Phone como necesites en tu análisis posterior."
   ]
  },
  {
   "cell_type": "markdown",
   "metadata": {},
   "source": [
    "# Preprocesamiento"
   ]
  },
  {
   "cell_type": "markdown",
   "metadata": {},
   "source": [
    "# Contratos"
   ]
  },
  {
   "cell_type": "code",
   "execution_count": null,
   "metadata": {},
   "outputs": [],
   "source": [
    "df_Contract.head(10)"
   ]
  },
  {
   "cell_type": "code",
   "execution_count": null,
   "metadata": {},
   "outputs": [],
   "source": [
    "df_Contract.info()"
   ]
  },
  {
   "cell_type": "markdown",
   "metadata": {},
   "source": [
    "Podemos ver que los datos no tienen faltantes al tener completas las filas en cada columna, sin embargo,  Sin embargo, la columna TotalCharges está representada como tipo 'object' (cadena de caracteres)lo cual sugiere que debería ser de tipo 'float' (número decimal) para representar mejor los datos numéricos. Sería necesario convertir la columna TotalCharges de tipo 'object' a 'float' para un análisis numérico preciso."
   ]
  },
  {
   "cell_type": "code",
   "execution_count": null,
   "metadata": {},
   "outputs": [],
   "source": [
    "#Funcion para pasar columnas al formato snake_case\n",
    "def to_snake_case(name):\n",
    "    s1 = re.sub('(.)([A-Z][a-z]+)', r'\\1_\\2', name)\n",
    "    s1 = s1.replace(' ','_')\n",
    "    return re.sub('([a-z0-9])([A-Z])', r'\\1_\\2', s1).lower()"
   ]
  },
  {
   "cell_type": "code",
   "execution_count": null,
   "metadata": {},
   "outputs": [],
   "source": [
    "#Pasamos las columnas al modo snake_case\n",
    "columns=df_Contract.columns\n",
    "new_cols=[]\n",
    "for i in columns:\n",
    "    i=to_snake_case(i)\n",
    "    new_cols.append(i)\n",
    "df_Contract.columns=new_cols\n",
    "print(df_Contract.columns)"
   ]
  },
  {
   "cell_type": "code",
   "execution_count": null,
   "metadata": {},
   "outputs": [],
   "source": [
    "df_Contract.describe()"
   ]
  },
  {
   "cell_type": "markdown",
   "metadata": {},
   "source": [
    "# Ausentes"
   ]
  },
  {
   "cell_type": "code",
   "execution_count": null,
   "metadata": {},
   "outputs": [],
   "source": [
    "df_Contract.isna().sum()"
   ]
  },
  {
   "cell_type": "markdown",
   "metadata": {},
   "source": [
    "df_Contract['total_charges'].value_counts()"
   ]
  },
  {
   "cell_type": "markdown",
   "metadata": {},
   "source": [
    "**Evidenciamos que la columna total_charges tiene un valor ' ' que no significa nada por lo cual veremos que impacto tiene.** "
   ]
  },
  {
   "cell_type": "code",
   "execution_count": null,
   "metadata": {},
   "outputs": [],
   "source": [
    "df_Contract[df_Contract['total_charges']==' ']"
   ]
  },
  {
   "cell_type": "code",
   "execution_count": null,
   "metadata": {},
   "outputs": [],
   "source": [
    "100*df_Contract[df_Contract['total_charges']==' ']['total_charges'].count()/df_Contract.shape[0]"
   ]
  },
  {
   "cell_type": "markdown",
   "metadata": {},
   "source": [
    "Dado que estos datos representan solo el 0.1% del total, hemos decidido eliminarlos"
   ]
  },
  {
   "cell_type": "code",
   "execution_count": null,
   "metadata": {},
   "outputs": [],
   "source": [
    "df_Contract['total_charges'].replace(' ',np.nan,inplace=True)"
   ]
  },
  {
   "cell_type": "code",
   "execution_count": null,
   "metadata": {},
   "outputs": [],
   "source": [
    "df_Contract.dropna(inplace=True)"
   ]
  },
  {
   "cell_type": "markdown",
   "metadata": {},
   "source": [
    " # Duplicados"
   ]
  },
  {
   "cell_type": "code",
   "execution_count": null,
   "metadata": {},
   "outputs": [],
   "source": [
    "df_Contract.duplicated().sum()"
   ]
  },
  {
   "cell_type": "code",
   "execution_count": null,
   "metadata": {},
   "outputs": [],
   "source": [
    "df_Contract['total_charges']=df_Contract['total_charges'].astype('float')"
   ]
  },
  {
   "cell_type": "code",
   "execution_count": null,
   "metadata": {},
   "outputs": [],
   "source": [
    "df_Contract.info()"
   ]
  },
  {
   "cell_type": "markdown",
   "metadata": {},
   "source": [
    "# Personal"
   ]
  },
  {
   "cell_type": "code",
   "execution_count": null,
   "metadata": {},
   "outputs": [],
   "source": [
    "df_Personal.head(10)"
   ]
  },
  {
   "cell_type": "code",
   "execution_count": null,
   "metadata": {},
   "outputs": [],
   "source": [
    "df_Personal.info()"
   ]
  },
  {
   "cell_type": "code",
   "execution_count": null,
   "metadata": {},
   "outputs": [],
   "source": [
    "#Pasamos las columnas al modo snake_case\n",
    "columns=df_Personal.columns\n",
    "new_cols=[]\n",
    "for i in columns:\n",
    "    i=to_snake_case(i)\n",
    "    new_cols.append(i)\n",
    "df_Personal.columns=new_cols\n",
    "print(df_Personal.columns)"
   ]
  },
  {
   "cell_type": "markdown",
   "metadata": {},
   "source": [
    "El dataframe contiene información básica de cada cliente y al revisar con el método info, se confirma que todos los datos están completos sin valores faltantes."
   ]
  },
  {
   "cell_type": "code",
   "execution_count": null,
   "metadata": {},
   "outputs": [],
   "source": [
    "df_Personal.describe()"
   ]
  },
  {
   "cell_type": "code",
   "execution_count": null,
   "metadata": {},
   "outputs": [],
   "source": [
    "df_Personal['senior_citizen'].value_counts()"
   ]
  },
  {
   "cell_type": "markdown",
   "metadata": {},
   "source": [
    "# Ausentes"
   ]
  },
  {
   "cell_type": "code",
   "execution_count": null,
   "metadata": {},
   "outputs": [],
   "source": [
    "df_Personal.isna().sum()"
   ]
  },
  {
   "cell_type": "markdown",
   "metadata": {},
   "source": [
    " # Duplicados"
   ]
  },
  {
   "cell_type": "code",
   "execution_count": null,
   "metadata": {},
   "outputs": [],
   "source": [
    "df_Personal.duplicated().sum()"
   ]
  },
  {
   "cell_type": "markdown",
   "metadata": {},
   "source": [
    "**El conjunto de datos parece estar completo, sin valores faltantes ni duplicados aparentes.**"
   ]
  },
  {
   "cell_type": "markdown",
   "metadata": {},
   "source": [
    " # Internet"
   ]
  },
  {
   "cell_type": "code",
   "execution_count": null,
   "metadata": {},
   "outputs": [],
   "source": [
    "df_Internet.head(10)"
   ]
  },
  {
   "cell_type": "code",
   "execution_count": null,
   "metadata": {},
   "outputs": [],
   "source": [
    "df_Internet.info()"
   ]
  },
  {
   "cell_type": "code",
   "execution_count": null,
   "metadata": {},
   "outputs": [],
   "source": [
    "#Pasamos las columnas al modo snake_case\n",
    "columns=df_Internet.columns\n",
    "new_cols=[]\n",
    "for i in columns:\n",
    "    i=to_snake_case(i)\n",
    "    new_cols.append(i)\n",
    "df_Internet.columns=new_cols\n",
    "print(df_Internet.columns)"
   ]
  },
  {
   "cell_type": "code",
   "execution_count": null,
   "metadata": {},
   "outputs": [],
   "source": [
    "df_Internet.describe()"
   ]
  },
  {
   "cell_type": "code",
   "execution_count": null,
   "metadata": {},
   "outputs": [],
   "source": [
    "df_Internet.isna().sum()"
   ]
  },
  {
   "cell_type": "markdown",
   "metadata": {},
   "source": [
    "# Duplicados"
   ]
  },
  {
   "cell_type": "code",
   "execution_count": null,
   "metadata": {},
   "outputs": [],
   "source": [
    "df_Internet.duplicated().sum()"
   ]
  },
  {
   "cell_type": "markdown",
   "metadata": {},
   "source": [
    "# Phone"
   ]
  },
  {
   "cell_type": "code",
   "execution_count": null,
   "metadata": {},
   "outputs": [],
   "source": [
    "df_Phone.head(10)"
   ]
  },
  {
   "cell_type": "code",
   "execution_count": null,
   "metadata": {},
   "outputs": [],
   "source": [
    "df_Phone.info()"
   ]
  },
  {
   "cell_type": "code",
   "execution_count": null,
   "metadata": {},
   "outputs": [],
   "source": [
    "#Pasamos las columnas al modo snake_case\n",
    "columns=df_Phone.columns\n",
    "new_cols=[]\n",
    "for i in columns:\n",
    "    i=to_snake_case(i)\n",
    "    new_cols.append(i)\n",
    "df_Phone.columns=new_cols\n",
    "print(df_Phone.columns)"
   ]
  },
  {
   "cell_type": "code",
   "execution_count": null,
   "metadata": {},
   "outputs": [],
   "source": [
    "df_Phone.describe()"
   ]
  },
  {
   "cell_type": "markdown",
   "metadata": {},
   "source": [
    "# Ausentes"
   ]
  },
  {
   "cell_type": "code",
   "execution_count": null,
   "metadata": {},
   "outputs": [],
   "source": [
    "df_Phone.isna().sum()"
   ]
  },
  {
   "cell_type": "markdown",
   "metadata": {},
   "source": [
    "# Duplicados"
   ]
  },
  {
   "cell_type": "code",
   "execution_count": null,
   "metadata": {},
   "outputs": [],
   "source": [
    "df_Phone.duplicated().sum()"
   ]
  },
  {
   "cell_type": "markdown",
   "metadata": {},
   "source": [
    "**En conclusión de los 4 datasets, están sin ausentes o duplicados, y tienen información binaria acerca de a las características que el usuario tiene en el servicio de internet y telefonía, asi como las caracteristicas del contrato, medios de pago, envío de factura y caracteristicas de los clientes.**\n"
   ]
  },
  {
   "cell_type": "markdown",
   "metadata": {},
   "source": [
    "# Análisis exploratorio de datos (EDA)"
   ]
  },
  {
   "cell_type": "code",
   "execution_count": null,
   "metadata": {},
   "outputs": [],
   "source": [
    "df_Contract.head()"
   ]
  },
  {
   "cell_type": "markdown",
   "metadata": {},
   "source": [
    "# ¿Que tipo de contrato es el que más escogen los clientes?"
   ]
  },
  {
   "cell_type": "code",
   "execution_count": null,
   "metadata": {},
   "outputs": [],
   "source": [
    "df_type=df_Contract.groupby(['type'])['customer_id'].count()\n",
    "df_type.plot(kind='bar')\n",
    "plt.show()\n"
   ]
  },
  {
   "cell_type": "markdown",
   "metadata": {},
   "source": [
    "En general podemos ver que más personas optan por el contrato mes a mes, seguido del contrato de dos años y el contrato de un año."
   ]
  },
  {
   "cell_type": "code",
   "execution_count": null,
   "metadata": {},
   "outputs": [],
   "source": [
    "df_paperless=df_Contract.groupby(['paperless_billing'])['customer_id'].count()\n",
    "df_paperless.plot(kind='bar')\n",
    "plt.show()"
   ]
  },
  {
   "cell_type": "markdown",
   "metadata": {},
   "source": [
    "La mayoría de personas prefieren recibir su factura electrónica."
   ]
  },
  {
   "cell_type": "code",
   "execution_count": null,
   "metadata": {},
   "outputs": [],
   "source": [
    "df_method=df_Contract.groupby(['payment_method'])['customer_id'].count()\n",
    "df_method=df_method.sort_values(ascending=False)\n",
    "df_method.plot(kind='bar')\n",
    "plt.show()"
   ]
  },
  {
   "cell_type": "markdown",
   "metadata": {},
   "source": [
    "Los clientes prefieren el pago electronico, seguido por el cheque por correo, transferencia bancaria y tarjeta de crédito (autopago)."
   ]
  },
  {
   "cell_type": "code",
   "execution_count": null,
   "metadata": {},
   "outputs": [],
   "source": [
    "df_type=df_Contract.groupby(['type'])['monthly_charges'].sum()\n",
    "df_type.plot(kind='bar')\n",
    "plt.show()"
   ]
  },
  {
   "cell_type": "markdown",
   "metadata": {},
   "source": [
    "Podemos ver que los que más cargos tienen son los que tienen contrato més a més,seguido del que tiene contrato de dos años. y el que tiene contrato de un año."
   ]
  },
  {
   "cell_type": "markdown",
   "metadata": {},
   "source": [
    "## Análisis Personal"
   ]
  },
  {
   "cell_type": "code",
   "execution_count": null,
   "metadata": {},
   "outputs": [],
   "source": [
    "df_Personal.head(10)"
   ]
  },
  {
   "cell_type": "code",
   "execution_count": null,
   "metadata": {},
   "outputs": [],
   "source": [
    "df_gender=df_Personal.groupby(['gender'])['customer_id'].count()\n",
    "df_gender.plot(kind='bar')\n",
    "plt.show()"
   ]
  },
  {
   "cell_type": "markdown",
   "metadata": {},
   "source": [
    " Los clientes están balanceados, más hombres que mujeres, sin embargo, casi la misma cantidad."
   ]
  },
  {
   "cell_type": "code",
   "execution_count": null,
   "metadata": {},
   "outputs": [],
   "source": [
    "df_senior=df_Personal.groupby(['senior_citizen'])['customer_id'].count()\n",
    "df_senior.plot(kind='bar')\n",
    "plt.show()"
   ]
  },
  {
   "cell_type": "markdown",
   "metadata": {},
   "source": [
    "La mayoría de los clientes no son adultos mayores."
   ]
  },
  {
   "cell_type": "markdown",
   "metadata": {},
   "source": [
    "## Análisis Internet"
   ]
  },
  {
   "cell_type": "code",
   "execution_count": null,
   "metadata": {},
   "outputs": [],
   "source": [
    "df_Internet.head(10)"
   ]
  },
  {
   "cell_type": "markdown",
   "metadata": {},
   "source": [
    "# ¿Cual es el servicio de internet más demandado?"
   ]
  },
  {
   "cell_type": "code",
   "execution_count": null,
   "metadata": {},
   "outputs": [],
   "source": [
    "df_service=df_Internet.groupby(['internet_service'])['customer_id'].count()\n",
    "df_service.plot(kind='bar')\n",
    "plt.show()"
   ]
  },
  {
   "cell_type": "markdown",
   "metadata": {},
   "source": [
    "La mayoría de los clientes utiliza fibra obtica."
   ]
  },
  {
   "cell_type": "code",
   "execution_count": null,
   "metadata": {},
   "outputs": [],
   "source": [
    "df_security=df_Internet.groupby(['online_security'])['customer_id'].count()\n",
    "df_security.plot(kind='bar')\n",
    "plt.show()"
   ]
  },
  {
   "cell_type": "markdown",
   "metadata": {},
   "source": [
    "La mayoría de clientes opta por no tener seguridad."
   ]
  },
  {
   "cell_type": "code",
   "execution_count": null,
   "metadata": {},
   "outputs": [],
   "source": [
    "df_backup=df_Internet.groupby(['online_backup'])['customer_id'].count()\n",
    "df_backup.plot(kind='bar')\n",
    "plt.show()"
   ]
  },
  {
   "cell_type": "markdown",
   "metadata": {},
   "source": [
    "La mayoría de clientes prefiere no tener respaldo de información."
   ]
  },
  {
   "cell_type": "code",
   "execution_count": null,
   "metadata": {},
   "outputs": [],
   "source": [
    "df_support=df_Internet.groupby(['tech_support'])['customer_id'].count()\n",
    "df_support.plot(kind='bar')\n",
    "plt.show()"
   ]
  },
  {
   "cell_type": "markdown",
   "metadata": {},
   "source": [
    "La mayoría de clientes prefiere no tener soporte técnico"
   ]
  },
  {
   "cell_type": "code",
   "execution_count": null,
   "metadata": {},
   "outputs": [],
   "source": [
    "df_dev_prot=df_Internet.groupby(['device_protection'])['customer_id'].count()\n",
    "df_dev_prot.plot(kind='bar')\n",
    "plt.show()"
   ]
  },
  {
   "cell_type": "markdown",
   "metadata": {},
   "source": [
    "La mayoría de clientes prefiere no tener protección de su dispositivo."
   ]
  },
  {
   "cell_type": "code",
   "execution_count": null,
   "metadata": {},
   "outputs": [],
   "source": [
    "df_streaming_tv=df_Internet.groupby(['streaming_tv'])['customer_id'].count()\n",
    "df_streaming_tv.plot(kind='bar')\n",
    "plt.show()"
   ]
  },
  {
   "cell_type": "markdown",
   "metadata": {},
   "source": [
    "Aunque los clientes prefieren no tener televisión, los clientes que si lo prefieren se acercan a las que no, por lo cual está balanceado este servicio."
   ]
  },
  {
   "cell_type": "code",
   "execution_count": null,
   "metadata": {},
   "outputs": [],
   "source": [
    "df_streaming_movies=df_Internet.groupby(['streaming_movies'])['customer_id'].count()\n",
    "df_streaming_movies.plot(kind='bar')\n",
    "plt.show()"
   ]
  },
  {
   "cell_type": "markdown",
   "metadata": {},
   "source": [
    "Aunque los clientes prefieren no tener peliculas, los clientes que si lo prefieren se acercan a las que no, por lo cual está balanceado este servicio."
   ]
  },
  {
   "cell_type": "code",
   "execution_count": null,
   "metadata": {},
   "outputs": [],
   "source": [
    "# Análisis Linea"
   ]
  },
  {
   "cell_type": "code",
   "execution_count": null,
   "metadata": {},
   "outputs": [],
   "source": [
    "df_Phone.head()"
   ]
  },
  {
   "cell_type": "code",
   "execution_count": null,
   "metadata": {},
   "outputs": [],
   "source": [
    "df_multiple=df_Phone.groupby(['multiple_lines'])['customer_id'].count()\n",
    "df_multiple.plot(kind='bar')\n",
    "plt.show()"
   ]
  },
  {
   "cell_type": "markdown",
   "metadata": {},
   "source": [
    "La mayoría de usuarios no tienen múltiples líneas asociadas en el dataset."
   ]
  },
  {
   "cell_type": "markdown",
   "metadata": {},
   "source": [
    "**Con el objetivo de simplificar el análisis, consolidaremos todos los conjuntos de datos en uno único.**"
   ]
  },
  {
   "cell_type": "code",
   "execution_count": null,
   "metadata": {},
   "outputs": [],
   "source": [
    "data=df_Contract.merge(df_Personal.merge(df_Phone.merge(df_Internet,how='left'),how='left'),how='left')"
   ]
  },
  {
   "cell_type": "code",
   "execution_count": null,
   "metadata": {},
   "outputs": [],
   "source": [
    "data.head(10)"
   ]
  },
  {
   "cell_type": "code",
   "execution_count": null,
   "metadata": {},
   "outputs": [],
   "source": [
    "data.info()"
   ]
  },
  {
   "cell_type": "code",
   "execution_count": null,
   "metadata": {},
   "outputs": [],
   "source": [
    "for item in ['multiple_lines','internet_service','online_security','online_backup',\n",
    "             'device_protection','tech_support','streaming_tv','streaming_movies']:\n",
    "    data[item] = data[item].fillna('No')"
   ]
  },
  {
   "cell_type": "markdown",
   "metadata": {},
   "source": [
    "# ¿Cuales son los medios de pago más utilizados?"
   ]
  },
  {
   "cell_type": "code",
   "execution_count": null,
   "metadata": {},
   "outputs": [],
   "source": [
    "df_payment_method = data.groupby(['payment_method', 'senior_citizen'], as_index=False)['customer_id'].count()\n",
    "df_payment_method.sort_values(by='customer_id', ascending=False, inplace=True)\n",
    "\n",
    "plt.figure(figsize=(10, 6))  # Adjust size as needed\n",
    "sns.barplot(data=df_payment_method, x='customer_id', y='payment_method', hue='senior_citizen', orient='h')\n",
    "\n",
    "plt.title('Count of Customers by Payment Method and Senior Citizen Status')\n",
    "plt.xlabel('Number of Customers')\n",
    "plt.ylabel('Payment Method')\n",
    "plt.show()"
   ]
  },
  {
   "cell_type": "markdown",
   "metadata": {},
   "source": [
    "Independientemente de si los usuarios son adultos mayores o no, el método de pago más utilizado es el cheque electrónico, seguido por transferencia bancaria, tarjeta de crédito (autopago) y cheque por correo."
   ]
  },
  {
   "cell_type": "markdown",
   "metadata": {},
   "source": [
    "# ¿Que tipo de factura prefieren los usuarios?"
   ]
  },
  {
   "cell_type": "code",
   "execution_count": null,
   "metadata": {},
   "outputs": [],
   "source": [
    "# Assuming 'data' is your DataFrame\n",
    "df_paperless_billing = data.groupby(['paperless_billing', 'senior_citizen'], as_index=False)['customer_id'].count()\n",
    "df_paperless_billing.sort_values(by='customer_id', ascending=False, inplace=True)\n",
    "\n",
    "# Plotting using seaborn\n",
    "plt.figure(figsize=(10, 6))  # Adjust size as needed\n",
    "sns.barplot(data=df_paperless_billing, x='customer_id', y='paperless_billing', hue='senior_citizen', orient='h')\n",
    "\n",
    "plt.title('Count of Customers by Paperless Billing and Senior Citizen Status')\n",
    "plt.xlabel('Number of Customers')\n",
    "plt.ylabel('Paperless Billing')\n",
    "plt.show()"
   ]
  },
  {
   "cell_type": "markdown",
   "metadata": {},
   "source": [
    "# ¿Que tipo de contrato prefieren las personas que tienen personas a cargo?"
   ]
  },
  {
   "cell_type": "code",
   "execution_count": null,
   "metadata": {},
   "outputs": [],
   "source": [
    "# Assuming 'data' is your DataFrame\n",
    "df_total_charges = data.groupby(['type', 'dependents'], as_index=False)['total_charges'].sum()\n",
    "df_total_charges.sort_values(by='total_charges', ascending=False, inplace=True)\n",
    "\n",
    "# Plotting using seaborn\n",
    "plt.figure(figsize=(10, 6))  # Adjust size as needed\n",
    "sns.barplot(data=df_total_charges, x='total_charges', y='type', hue='dependents', orient='h')\n",
    "\n",
    "plt.title('Total Charges by Customer Type and Dependents')\n",
    "plt.xlabel('Total Charges')\n",
    "plt.ylabel('Customer Type')\n",
    "plt.show()"
   ]
  },
  {
   "cell_type": "markdown",
   "metadata": {},
   "source": [
    "La mayoría de los clientes tienen más cargos y no tienen personas dependientes de ellos, además podemos ver que las personas que pagan mes a mes tienen más cargos"
   ]
  },
  {
   "cell_type": "code",
   "execution_count": null,
   "metadata": {},
   "outputs": [],
   "source": [
    "# Assuming 'data' is your DataFrame\n",
    "df_internet_service_1 = data.groupby(['internet_service', 'online_security'], as_index=False)['total_charges'].sum()\n",
    "df_internet_service_1.sort_values(by='total_charges', ascending=False, inplace=True)\n",
    "\n",
    "# Plotting using seaborn\n",
    "plt.figure(figsize=(10, 6))  # Adjust size as needed\n",
    "sns.barplot(data=df_internet_service_1, x='total_charges', y='internet_service', hue='online_security', orient='h')\n",
    "\n",
    "plt.title('Total Charges by Internet Service and Online Security')\n",
    "plt.xlabel('Total Charges')\n",
    "plt.ylabel('Internet Service')\n",
    "plt.show()"
   ]
  },
  {
   "cell_type": "markdown",
   "metadata": {},
   "source": [
    "Se puede apreciar que los que tienen fibra obtica y no tiene seguridad online pagan más que los que si la tienen."
   ]
  },
  {
   "cell_type": "code",
   "execution_count": null,
   "metadata": {},
   "outputs": [],
   "source": [
    "# Assuming 'data' is your DataFrame\n",
    "df_internet_service_1 = data.groupby(['internet_service', 'online_security'], as_index=False)['customer_id'].count()\n",
    "df_internet_service_1.sort_values(by='customer_id', ascending=False, inplace=True)\n",
    "\n",
    "# Plotting using seaborn\n",
    "plt.figure(figsize=(10, 6))  # Adjust size as needed\n",
    "sns.barplot(data=df_internet_service_1, x='customer_id', y='internet_service', hue='online_security', orient='h')\n",
    "\n",
    "plt.title('Count of Customers by Internet Service and Online Security')\n",
    "plt.xlabel('Number of Customers')\n",
    "plt.ylabel('Internet Service')\n",
    "plt.show()"
   ]
  },
  {
   "cell_type": "markdown",
   "metadata": {},
   "source": [
    "Se puede confirmar que los usuarios que utilizan el servicio DSL tienden a preferir tener seguridad en línea en comparación con no tenerla. Por otro lado, aquellos que tienen fibra óptica tienden a optar por no tener seguridad en línea y además enfrentan cargos más altos que los usuarios de DSL."
   ]
  },
  {
   "cell_type": "code",
   "execution_count": null,
   "metadata": {},
   "outputs": [],
   "source": [
    "def cancel(data):\n",
    "    if data=='No':\n",
    "        return '0'\n",
    "    else:\n",
    "        return '1'"
   ]
  },
  {
   "cell_type": "code",
   "execution_count": null,
   "metadata": {},
   "outputs": [],
   "source": [
    "#Creamos la columna cancel para etiquetar los datos\n",
    "data['cancel']=data['end_date'].apply(cancel)\n",
    "data.head(5)"
   ]
  },
  {
   "cell_type": "code",
   "execution_count": null,
   "metadata": {},
   "outputs": [],
   "source": [
    "data['end_date'].value_counts()"
   ]
  },
  {
   "cell_type": "markdown",
   "metadata": {},
   "source": [
    "# ¿Cual es la tasa de cancelación y que caracteristicas tienen los usuarios que cancelan y los que no?"
   ]
  },
  {
   "cell_type": "code",
   "execution_count": null,
   "metadata": {},
   "outputs": [],
   "source": [
    "print('Tasa de cancelación: ',100*data[data['cancel']=='1']['customer_id'].count()/data.shape[0])"
   ]
  },
  {
   "cell_type": "code",
   "execution_count": null,
   "metadata": {},
   "outputs": [],
   "source": [
    "data_cancel_rate=data.groupby(['cancel'])['customer_id'].count()\n",
    "data_cancel_rate.plot(kind='bar')\n",
    "plt.show()"
   ]
  },
  {
   "cell_type": "markdown",
   "metadata": {},
   "source": [
    "Observamos que la tasa de cancelación es del 32%, lo cual es significativamente alto considerando un periodo de solo 4 meses. A continuación, examinaremos en detalle las características del plan de los clientes que cancelaron y de los que no cancelaron para entender mejor este fenómeno.\n"
   ]
  },
  {
   "cell_type": "code",
   "execution_count": null,
   "metadata": {},
   "outputs": [],
   "source": [
    "data_cancel_rate=data.groupby(['cancel'])['customer_id'].count()\n",
    "data_cancel_rate.plot(kind='bar')\n",
    "plt.show()"
   ]
  },
  {
   "cell_type": "code",
   "execution_count": null,
   "metadata": {},
   "outputs": [],
   "source": [
    "df_internet_service_2 = data.groupby(['internet_service', 'cancel'], as_index=False)['customer_id'].count()\n",
    "df_internet_service_2.sort_values(by='cancel', ascending=False, inplace=True)\n",
    "\n",
    "# Plotting using seaborn\n",
    "plt.figure(figsize=(10, 6))  # Adjust size as needed\n",
    "sns.barplot(data=df_internet_service_2, x='customer_id', y='internet_service', hue='cancel', orient='h')\n",
    "\n",
    "plt.title('Count of Customers by Internet Service and Cancellation')\n",
    "plt.xlabel('Number of Customers')\n",
    "plt.ylabel('Internet Service')\n",
    "plt.show()"
   ]
  },
  {
   "cell_type": "markdown",
   "metadata": {},
   "source": [
    "Tanto los clientes que cancelan como los que no cancelan muestran una tendencia similar hacia la preferencia por la fibra óptica en lugar de DSL.\n"
   ]
  },
  {
   "cell_type": "code",
   "execution_count": null,
   "metadata": {},
   "outputs": [],
   "source": [
    "df_payment_type = data.groupby(['type', 'cancel'], as_index=False)['customer_id'].count()\n",
    "df_payment_type.sort_values(by='cancel', ascending=False, inplace=True)\n",
    "\n",
    "# Plotting using seaborn\n",
    "plt.figure(figsize=(10, 6))  # Adjust size as needed\n",
    "sns.barplot(data=df_payment_type, x='customer_id', y='type', hue='cancel', orient='h')\n",
    "\n",
    "plt.title('Count of customers by type and cancel')\n",
    "plt.xlabel('number of customers')\n",
    "plt.ylabel('payment type')\n",
    "plt.show()"
   ]
  },
  {
   "cell_type": "code",
   "execution_count": null,
   "metadata": {},
   "outputs": [],
   "source": [
    "df_expenses = data.groupby(['type', 'cancel'], as_index=False)['total_charges'].sum()\n",
    "df_expenses.sort_values(by='cancel', ascending=False, inplace=True)\n",
    "\n",
    "# Plotting using seaborn\n",
    "plt.figure(figsize=(10, 6))  # Adjust size as needed\n",
    "sns.barplot(data=df_expenses, x='total_charges', y='type', hue='cancel', orient='h')\n",
    "\n",
    "plt.title('Type and Cancel')\n",
    "plt.xlabel('Total Charges')\n",
    "plt.ylabel('Type')\n",
    "plt.show()"
   ]
  },
  {
   "cell_type": "markdown",
   "metadata": {},
   "source": [
    "Podemos ver que los que cancelan gastan más en los planes mes a mes, lo que tiene complementa el anterior análisis."
   ]
  },
  {
   "cell_type": "code",
   "execution_count": null,
   "metadata": {},
   "outputs": [],
   "source": [
    "data.columns"
   ]
  },
  {
   "cell_type": "code",
   "execution_count": null,
   "metadata": {},
   "outputs": [],
   "source": [
    "df_multiline = data.groupby(['cancel', 'multiple_lines'], as_index=False)['customer_id'].count()\n",
    "\n",
    "# Sort by 'cancel' in descending order (optional, based on your preference)\n",
    "df_multiline.sort_values(by='cancel', ascending=False, inplace=True)\n",
    "\n",
    "# Plotting using seaborn\n",
    "plt.figure(figsize=(10, 6))  # Adjust size as needed\n",
    "sns.barplot(data=df_multiline, x='customer_id', y='cancel', hue='multiple_lines', orient='h')\n",
    "\n",
    "plt.title('Count of Customers by Cancel and Multiple Lines')\n",
    "plt.xlabel('Number of Customers')\n",
    "plt.ylabel('Cancellation Status')\n",
    "plt.show()"
   ]
  },
  {
   "cell_type": "markdown",
   "metadata": {},
   "source": [
    "Los usuarios que tienen múltiples líneas tienden a cancelar más frecuentemente en comparación con aquellos que no las tienen, sugiriendo que este servicio podría estar siendo menos atendido."
   ]
  },
  {
   "cell_type": "code",
   "execution_count": null,
   "metadata": {},
   "outputs": [],
   "source": [
    "df_p_method = data.groupby(['payment_method', 'cancel'], as_index=False)['customer_id'].count()\n",
    "\n",
    "# Convert payment_method to categorical (optional but recommended for categorical data)\n",
    "df_p_method['payment_method'] = pd.Categorical(df_p_method['payment_method'])\n",
    "\n",
    "# Plotting with seaborn barplot\n",
    "sns.barplot(data=df_p_method, x='customer_id', y='payment_method', hue='cancel', orient='h')\n",
    "\n",
    "# Adding labels and title\n",
    "plt.xlabel('Number of Customers')\n",
    "plt.ylabel('Payment Method')\n",
    "plt.title('Customer Count by Payment Method and Cancellation')\n",
    "plt.show()"
   ]
  },
  {
   "cell_type": "code",
   "execution_count": null,
   "metadata": {},
   "outputs": [],
   "source": [
    "df_multiline.sort_values(by='customer_id', ascending=False, inplace=True)\n",
    "\n",
    "# Plotting using seaborn\n",
    "plt.figure(figsize=(10, 6))  # Adjust size as needed\n",
    "sns.barplot(data=df_multiline, x='customer_id', y='cancel', hue='multiple_lines', orient='h')\n",
    "\n",
    "plt.title('Count of Customers by Cancellation Status and Multiple Lines')\n",
    "plt.xlabel('Number of Customers')\n",
    "plt.ylabel('Cancellation Status')\n",
    "plt.show()"
   ]
  },
  {
   "cell_type": "markdown",
   "metadata": {},
   "source": [
    "La mayoría de los clientes que deciden cancelar prefieren utilizar el método de pago mediante cheque electrónico."
   ]
  },
  {
   "cell_type": "code",
   "execution_count": null,
   "metadata": {},
   "outputs": [],
   "source": [
    "def pop_service(data,columns):\n",
    "    list=[]\n",
    "    for column in data[columns]:\n",
    "        percentage=100*data[data[column]=='Yes']['customer_id'].count()/data.shape[0]\n",
    "        list.append(percentage)\n",
    "    pop_services={'Servicio':columns,'percentage':list}    \n",
    "    df_pop_services=pd.DataFrame(pop_services)\n",
    "    return df_pop_services"
   ]
  },
  {
   "cell_type": "code",
   "execution_count": null,
   "metadata": {},
   "outputs": [],
   "source": [
    "columns=['online_security', 'online_backup', 'device_protection', 'tech_support',\n",
    "       'streaming_tv', 'streaming_movies', 'multiple_lines']\n",
    "df_pop_services=pop_service(data,columns)\n",
    "df_pop_services.sort_values(by='percentage',ascending=False,inplace=True)\n",
    "df_pop_services.plot(kind='bar',x='Servicio',y='percentage')\n",
    "plt.show()"
   ]
  },
  {
   "cell_type": "markdown",
   "metadata": {},
   "source": [
    "Se observa que el servicio más demandado es el de múltiples líneas, seguido por películas, televisión y respaldo en línea."
   ]
  },
  {
   "cell_type": "code",
   "execution_count": null,
   "metadata": {},
   "outputs": [],
   "source": [
    "def pop_service_1(data,columns):\n",
    "    list_0=[]\n",
    "    list_1=[]\n",
    "    for column in data[columns]:\n",
    "        percentage_1=100*data[(data[column]=='Yes')&(data['cancel']=='1')]['customer_id'].count()/data.shape[0]\n",
    "        percentage_0=100*data[(data[column]=='Yes')&(data['cancel']=='0')]['customer_id'].count()/data.shape[0]\n",
    "        list_1.append(percentage_1)\n",
    "        list_0.append(percentage_0)\n",
    "    pop_services={'Servicio':columns,'percentage_0':list_0,'percentage_1':list_1}    \n",
    "    df_pop_services=pd.DataFrame(pop_services)\n",
    "    return df_pop_services"
   ]
  },
  {
   "cell_type": "code",
   "execution_count": null,
   "metadata": {},
   "outputs": [],
   "source": [
    "columns=['online_security', 'online_backup', 'device_protection', 'tech_support',\n",
    "       'streaming_tv', 'streaming_movies', 'multiple_lines']\n",
    "df_pop_services_1=pop_service_1(data,columns)\n",
    "df_pop_services_1.sort_values(by='percentage_0',ascending=False,inplace=True)\n",
    "df_pop_services_1.plot(kind='bar',x='Servicio',y=['percentage_0','percentage_1'])\n",
    "plt.show()"
   ]
  },
  {
   "cell_type": "markdown",
   "metadata": {},
   "source": [
    "Basándonos en la última pregunta, podemos concluir que la mayoría de los usuarios que deciden cancelar tienen contratos mensuales, optan por el pago mediante cheque electrónico, utilizan servicios de internet de fibra óptica y son frecuentes usuarios de servicios como múltiples líneas, películas, televisión y protección de dispositivos. La tasa de cancelación alcanza el 32%."
   ]
  },
  {
   "cell_type": "markdown",
   "metadata": {},
   "source": [
    "# Plan de trabajo\n",
    "\n",
    "1.- Segmentar los datos\n",
    "\n",
    "2.- Balanceo de datos\n",
    "\n",
    "3.- Separación de datos de entrenamiento, validación y testeo\n",
    "\n",
    "4.- Entrenamiento de modelo de clasificación\n",
    "\n",
    "5.- Testeo del modelo de clasificación\n",
    "\n",
    "Primero debemos filtrar los datos por el tipo de contrato de más frecuente entre los que van a cancelar, en este caso el de 'mes a mes', posteriormente realizamos todo el proceso de entrenamiento del modelo de entrenamiento que nos permita clasificar a los clientes que puedan cancelar.\n",
    "\n",
    "Para realizar el algoritmo debemos balancear los datos, debido a que el 32% de los datos son clientes que cancelan, posteriormente entrenaremos y probaremos varios algoritmos de clasificación con potenciación del gradiente para obtener una exactitud y calidad del modelo alta. Posteriormente probaremos el mejor modelo con los datos de testeo para determinar la tasa de cancelación."
   ]
  },
  {
   "cell_type": "markdown",
   "metadata": {},
   "source": [
    "# Solucion"
   ]
  },
  {
   "cell_type": "code",
   "execution_count": null,
   "metadata": {},
   "outputs": [],
   "source": [
    "from sklearn.model_selection import train_test_split\n",
    "from sklearn.preprocessing import StandardScaler\n",
    "from imblearn.over_sampling import SMOTE\n",
    "from catboost import CatBoostClassifier\n",
    "from lightgbm import LGBMClassifier\n",
    "from sklearn.linear_model import LogisticRegression\n",
    "from sklearn.ensemble import RandomForestClassifier\n",
    "from sklearn.model_selection import RandomizedSearchCV\n",
    "from sklearn.model_selection import GridSearchCV\n",
    "from sklearn.metrics import (f1_score,accuracy_score,roc_auc_score)\n",
    "from sklearn.feature_selection import SelectFromModel\n",
    "#from sklearn.pipeline import Pipeline\n",
    "from scipy.stats import randint as sp_randint\n",
    "from scipy.stats import uniform\n",
    "import joblib"
   ]
  },
  {
   "cell_type": "code",
   "execution_count": null,
   "metadata": {},
   "outputs": [],
   "source": [
    "data.head()\n",
    "data['cancel']=pd.to_numeric(data['cancel'])"
   ]
  },
  {
   "cell_type": "markdown",
   "metadata": {},
   "source": [
    "# Codificamos nuestros datos categoricos"
   ]
  },
  {
   "cell_type": "code",
   "execution_count": null,
   "metadata": {},
   "outputs": [],
   "source": [
    "data_model=data.drop(['customer_id','begin_date','end_date'],axis=1)"
   ]
  },
  {
   "cell_type": "code",
   "execution_count": null,
   "metadata": {},
   "outputs": [],
   "source": [
    "def binary_categories(data):\n",
    "    if data=='Yes' or data=='Male':\n",
    "        return 1\n",
    "    else:\n",
    "        return 0"
   ]
  },
  {
   "cell_type": "code",
   "execution_count": null,
   "metadata": {},
   "outputs": [],
   "source": [
    "binary_columns=['gender','partner', 'dependents','paperless_billing', 'internet_service', 'online_security', 'online_backup',\n",
    "       'device_protection', 'tech_support', 'streaming_tv', 'streaming_movies',\n",
    "       'multiple_lines']\n",
    "for column in binary_columns:\n",
    "       data_model[column]=data_model[column].apply(binary_categories)"
   ]
  },
  {
   "cell_type": "code",
   "execution_count": null,
   "metadata": {},
   "outputs": [],
   "source": [
    "one_hot=pd.get_dummies(data_model[['type','payment_method']])\n",
    "data_model = pd.concat([data_model, one_hot], axis=1).drop(columns=['type','payment_method'])"
   ]
  },
  {
   "cell_type": "markdown",
   "metadata": {},
   "source": [
    "# Separamos los datos de entrenamiento, validación y testeo"
   ]
  },
  {
   "cell_type": "code",
   "execution_count": null,
   "metadata": {},
   "outputs": [],
   "source": [
    "seed=12345\n",
    "data_train,data_test=train_test_split(data_model,random_state=seed,test_size=0.3)"
   ]
  },
  {
   "cell_type": "code",
   "execution_count": null,
   "metadata": {},
   "outputs": [],
   "source": [
    "features=data_train.drop(['cancel'],axis=1)\n",
    "target=data_train['cancel']\n",
    "features_train,features_valid,target_train,target_valid=train_test_split(features,target,random_state=seed,test_size=0.3)"
   ]
  },
  {
   "cell_type": "code",
   "execution_count": null,
   "metadata": {},
   "outputs": [],
   "source": [
    "features_train.head(5)"
   ]
  },
  {
   "cell_type": "markdown",
   "metadata": {},
   "source": [
    "# Escalamos los datos"
   ]
  },
  {
   "cell_type": "code",
   "execution_count": null,
   "metadata": {},
   "outputs": [],
   "source": [
    "#Vamos a escalar las características para que nuestro modelo pueda tomar estas variables\n",
    "numeric=['monthly_charges','total_charges']\n",
    "scaler=StandardScaler()\n",
    "scaler.fit(features_train[numeric])\n",
    "features_train[numeric]=scaler.transform(features_train[numeric])\n",
    "features_valid[numeric]=scaler.transform(features_valid[numeric])"
   ]
  },
  {
   "cell_type": "markdown",
   "metadata": {},
   "source": [
    "# Balanceamos los datos"
   ]
  },
  {
   "cell_type": "code",
   "execution_count": null,
   "metadata": {},
   "outputs": [],
   "source": [
    "smote = SMOTE(random_state=seed)\n",
    "features_train_resampled, target_train_resampled = smote.fit_resample(features_train, target_train)"
   ]
  },
  {
   "cell_type": "markdown",
   "metadata": {},
   "source": [
    "# Entrenamos los modelos"
   ]
  },
  {
   "cell_type": "markdown",
   "metadata": {},
   "source": [
    "# RandomForest"
   ]
  },
  {
   "cell_type": "code",
   "execution_count": null,
   "metadata": {},
   "outputs": [],
   "source": [
    "# 5. Cálculo de medias y desviaciones estándar\n",
    "train_scores_mean = train_scores.mean(axis=1)\n",
    "train_scores_std = train_scores.std(axis=1)\n",
    "test_scores_mean = test_scores.mean(axis=1)\n",
    "test_scores_std = test_scores.std(axis=1)"
   ]
  },
  {
   "cell_type": "code",
   "execution_count": null,
   "metadata": {},
   "outputs": [],
   "source": [
    "params_rf={'max_depth':[3,4,2,1],\n",
    "         'min_samples_split':[5,10,11,12],\n",
    "         'n_estimators':[10,20,30,40],\n",
    "         'min_samples_leaf':[1, 2, 4],\n",
    "         'bootstrap':[True, False]}"
   ]
  },
  {
   "cell_type": "code",
   "execution_count": null,
   "metadata": {},
   "outputs": [],
   "source": [
    "model_rf=RandomForestClassifier()\n",
    "selector_rf = SelectFromModel(estimator=model_rf, threshold='mean')\n",
    "selector_rf.fit(features_train_resampled,target_train_resampled)\n",
    "selected_features_rf = features_train_resampled.columns[selector_rf.get_support()].tolist()\n",
    "print(\"Características seleccionadas:\", selected_features_rf)"
   ]
  },
  {
   "cell_type": "code",
   "execution_count": null,
   "metadata": {},
   "outputs": [],
   "source": [
    "rs=RandomizedSearchCV(estimator=model_rf,param_distributions=params_rf,scoring='f1',cv=2,random_state=seed)\n",
    "rs.fit(features_train_resampled[selected_features_rf],target_train_resampled)"
   ]
  },
  {
   "cell_type": "code",
   "execution_count": null,
   "metadata": {},
   "outputs": [],
   "source": [
    "best_random_rf = rs.best_estimator_\n",
    "random_prediction = best_random_rf.predict(features_valid[selected_features_rf])\n",
    "random_accuracy=accuracy_score(target_valid,random_prediction)\n",
    "random_f1_score=f1_score(target_valid,random_prediction)\n",
    "random_roc_auc=roc_auc_score(target_valid,random_prediction)\n",
    "print(\"Accuracy:\",random_accuracy)\n",
    "print('f1: ',random_f1_score)\n",
    "print('ROC_AUC: ',random_roc_auc)"
   ]
  },
  {
   "cell_type": "code",
   "execution_count": null,
   "metadata": {},
   "outputs": [],
   "source": [
    "# Check if 'models/' directory exists, if not, create it\n",
    "if not os.path.exists('models'):\n",
    "    os.makedirs('models')\n",
    "\n",
    "# Now save your model\n",
    "joblib.dump(best_random_rf, 'models/best_random_rf.joblib')"
   ]
  },
  {
   "cell_type": "markdown",
   "metadata": {},
   "source": [
    "# LGBM Classifier"
   ]
  },
  {
   "cell_type": "code",
   "execution_count": null,
   "metadata": {},
   "outputs": [],
   "source": [
    "param_dist = {\n",
    "    'n_estimators': sp_randint(50, 200),\n",
    "    'max_depth': sp_randint(3, 10),\n",
    "    'learning_rate': [0.01, 0.05, 0.1, 0.2, 0.3],\n",
    "    'subsample': [0.6, 0.7, 0.8, 0.9, 1.0],\n",
    "    'colsample_bytree': [0.6, 0.7, 0.8, 0.9, 1.0],\n",
    "    'reg_alpha': [0.0, 0.1, 0.5, 1.0],\n",
    "    'reg_lambda': [0.0, 0.1, 0.5, 1.0],\n",
    "    'min_child_samples': sp_randint(10, 50)\n",
    "}"
   ]
  },
  {
   "cell_type": "code",
   "execution_count": null,
   "metadata": {},
   "outputs": [],
   "source": [
    "model_lb=LGBMClassifier()\n",
    "selector_lb = SelectFromModel(estimator=model_lb, threshold='mean')\n",
    "selector_lb.fit(features_train_resampled,target_train_resampled)\n",
    "selected_features_lb = features_train_resampled.columns[selector_lb.get_support()].tolist()\n",
    "print(\"Características seleccionadas:\", selected_features_lb)"
   ]
  },
  {
   "cell_type": "code",
   "execution_count": null,
   "metadata": {},
   "outputs": [],
   "source": [
    "lb=RandomizedSearchCV(estimator=model_lb,param_distributions=param_dist,scoring='f1',cv=2,random_state=seed)\n",
    "lb.fit(features_train_resampled[selected_features_lb],target_train_resampled)"
   ]
  },
  {
   "cell_type": "code",
   "execution_count": null,
   "metadata": {},
   "outputs": [],
   "source": [
    "best_random_lb = lb.best_estimator_\n",
    "random_prediction = best_random_lb.predict(features_valid[selected_features_lb])\n",
    "random_accuracy=accuracy_score(target_valid,random_prediction)\n",
    "random_f1_score=f1_score(target_valid,random_prediction)\n",
    "random_roc_auc=roc_auc_score(target_valid,random_prediction)\n",
    "print(\"Accuracy:\",random_accuracy)\n",
    "print('f1: ',random_f1_score)\n",
    "print('ROC_AUC: ',random_roc_auc)"
   ]
  },
  {
   "cell_type": "markdown",
   "metadata": {},
   "source": [
    "joblib.dump(best_random_lb,'models/best_random_lb.joblib')"
   ]
  },
  {
   "cell_type": "markdown",
   "metadata": {},
   "source": [
    "# Catboost"
   ]
  },
  {
   "cell_type": "code",
   "execution_count": null,
   "metadata": {},
   "outputs": [],
   "source": [
    "param_dist = {\n",
    "    'iterations': sp_randint(50, 200),\n",
    "    'learning_rate': [0.01, 0.05, 0.1, 0.2, 0.3],\n",
    "    'depth': sp_randint(3, 10),\n",
    "    'l2_leaf_reg': [1, 3, 5, 7, 9],\n",
    "    'border_count': sp_randint(32, 255)\n",
    "}"
   ]
  },
  {
   "cell_type": "code",
   "execution_count": null,
   "metadata": {},
   "outputs": [],
   "source": [
    "model_cat=CatBoostClassifier()\n",
    "selector_cat = SelectFromModel(estimator=model_cat, threshold='mean')\n",
    "selector_cat.fit(features_train_resampled,target_train_resampled)\n",
    "selected_features_cat = features_train_resampled.columns[selector_cat.get_support()].tolist()\n",
    "print(\"Características seleccionadas:\", selected_features_cat)"
   ]
  },
  {
   "cell_type": "code",
   "execution_count": null,
   "metadata": {},
   "outputs": [],
   "source": [
    "best_random_cat = cat.best_estimator_\n",
    "random_prediction = best_random_cat.predict(features_valid[selected_features_cat])\n",
    "random_accuracy=accuracy_score(target_valid,random_prediction)\n",
    "random_f1_score=f1_score(target_valid,random_prediction)\n",
    "random_roc_auc=roc_auc_score(target_valid,random_prediction)\n",
    "print(\"Accuracy:\",random_accuracy)\n",
    "print('f1: ',random_f1_score)\n",
    "print('ROC_AUC: ',random_roc_auc)"
   ]
  },
  {
   "cell_type": "code",
   "execution_count": null,
   "metadata": {},
   "outputs": [],
   "source": [
    "joblib.dump(best_random_cat,'models/best_random_cat.joblib')"
   ]
  },
  {
   "cell_type": "markdown",
   "metadata": {},
   "source": [
    "# Logistic Regression"
   ]
  },
  {
   "cell_type": "code",
   "execution_count": null,
   "metadata": {},
   "outputs": [],
   "source": [
    "param_grid = {\n",
    "    'C': uniform(loc=0, scale=4),  # Regularization parameter C\n",
    "    'penalty': ['l1', 'l2'],      # Penalty (l1 for Lasso, l2 for Ridge)\n",
    "    'solver': ['liblinear']       # Solver for logistic regression\n",
    "}"
   ]
  },
  {
   "cell_type": "code",
   "execution_count": null,
   "metadata": {},
   "outputs": [],
   "source": [
    "model_lr=LogisticRegression()\n",
    "selector_lr = SelectFromModel(estimator=model_lr, threshold='mean')\n",
    "selector_lr.fit(features_train_resampled,target_train_resampled)\n",
    "selected_features_lr = features_train_resampled.columns[selector_lr.get_support()].tolist()\n",
    "print(\"Características seleccionadas:\", selected_features_lr)"
   ]
  },
  {
   "cell_type": "code",
   "execution_count": null,
   "metadata": {},
   "outputs": [],
   "source": [
    "lr=RandomizedSearchCV(estimator=model_lr,param_distributions=param_grid,scoring='f1',cv=2,random_state=seed)\n",
    "lr.fit(features_train_resampled[selected_features_lr],target_train_resampled)"
   ]
  },
  {
   "cell_type": "code",
   "execution_count": null,
   "metadata": {},
   "outputs": [],
   "source": [
    "best_random_lr = lr.best_estimator_\n",
    "random_prediction = best_random_lr.predict(features_valid[selected_features_lr])\n",
    "random_accuracy=accuracy_score(target_valid,random_prediction)\n",
    "random_f1_score=f1_score(target_valid,random_prediction)\n",
    "random_roc_auc=roc_auc_score(target_valid,random_prediction)\n",
    "print(\"Accuracy:\",random_accuracy)\n",
    "print('f1: ',random_f1_score)\n",
    "print('ROC_AUC: ',random_roc_auc)"
   ]
  },
  {
   "cell_type": "code",
   "execution_count": null,
   "metadata": {},
   "outputs": [],
   "source": [
    "joblib.dump(best_random_lr,'models/best_random_lr.joblib')"
   ]
  },
  {
   "cell_type": "markdown",
   "metadata": {},
   "source": [
    "El modelo que tiene mejor métrica ROC_AUC es el de Logistic_Regression, debido a esto se probará primero"
   ]
  },
  {
   "cell_type": "markdown",
   "metadata": {},
   "source": [
    "# Se prueban los datos"
   ]
  },
  {
   "cell_type": "code",
   "execution_count": null,
   "metadata": {},
   "outputs": [],
   "source": [
    "features_test=data_test.drop(['cancel'],axis=1)\n",
    "target_test=data_test['cancel']"
   ]
  },
  {
   "cell_type": "markdown",
   "metadata": {},
   "source": [
    "# Se escalan los datos"
   ]
  },
  {
   "cell_type": "code",
   "execution_count": null,
   "metadata": {},
   "outputs": [],
   "source": [
    "features_test[numeric]=scaler.transform(features_test[numeric])"
   ]
  },
  {
   "cell_type": "markdown",
   "metadata": {},
   "source": [
    "# Logistic Regression"
   ]
  },
  {
   "cell_type": "code",
   "execution_count": null,
   "metadata": {},
   "outputs": [],
   "source": [
    "prediction_lr=best_random_lr.predict(features_test[selected_features_lr])\n",
    "random_accuracy=accuracy_score(target_test,prediction_lr)\n",
    "random_f1_score=f1_score(target_test,prediction_lr)\n",
    "random_roc_auc=roc_auc_score(target_test,prediction_lr)\n",
    "print(\"Accuracy:\",random_accuracy)\n",
    "print('f1: ',random_f1_score)\n",
    "print('ROC_AUC: ',random_roc_auc)"
   ]
  },
  {
   "cell_type": "code",
   "execution_count": null,
   "metadata": {},
   "outputs": [],
   "source": [
    "print(best_random_lr)"
   ]
  },
  {
   "cell_type": "markdown",
   "metadata": {},
   "source": [
    "# Gradient Boosting"
   ]
  },
  {
   "cell_type": "code",
   "execution_count": null,
   "metadata": {},
   "outputs": [],
   "source": [
    "# Definir el espacio de búsqueda de hiperparámetros para Gradient Boosting\n",
    "params_gb = {\n",
    "    'learning_rate': [0.01, 0.05, 0.1, 0.2, 0.3],  # Tasa de aprendizaje\n",
    "    'n_estimators': [50, 100, 150, 200, 250],      # Número de estimadores\n",
    "    'max_depth': [3, 4, 5, 6, 7, 8, 9, 10],         # Profundidad máxima del árbol\n",
    "    'min_samples_split': [2, 5, 10],                # Número mínimo de muestras requeridas para dividir un nodo interno\n",
    "    'min_samples_leaf': [1, 2, 4],                  # Número mínimo de muestras requeridas para ser una hoja\n",
    "    'subsample': [0.6, 0.7, 0.8, 0.9, 1.0],         # Muestra la fracción de las muestras utilizadas para el ajuste de cada árbol\n",
    "    'max_features': ['sqrt', 'log2', None]          # Número de características a considerar en cada split\n",
    "    }"
   ]
  },
  {
   "cell_type": "code",
   "execution_count": null,
   "metadata": {},
   "outputs": [],
   "source": [
    "# Inicializar el modelo Gradient Boosting\n",
    "model_gb = GradientBoostingClassifier(random_state=seed)\n",
    "\n",
    "# Selección de características utilizando SelectFromModel\n",
    "selector_gb = SelectFromModel(estimator=model_gb, threshold='mean')\n",
    "selector_gb.fit(features_train_resampled, target_train_resampled)\n",
    "selected_features_gb = features_train_resampled.columns[selector_gb.get_support()].tolist()\n",
    "print(\"Características seleccionadas:\", selected_features_gb)"
   ]
  },
  {
   "cell_type": "markdown",
   "metadata": {},
   "source": [
    "# Búsqueda Aleatoria de Hiperparámetros"
   ]
  },
  {
   "cell_type": "markdown",
   "metadata": {},
   "source": [
    "Realizaremos una búsqueda aleatoria de hiperparámetros para encontrar la configuración óptima para el modelo Gradient Boosting."
   ]
  },
  {
   "cell_type": "code",
   "execution_count": null,
   "metadata": {},
   "outputs": [],
   "source": [
    "# Búsqueda aleatoria de hiperparámetros para Gradient Boosting\n",
    "rs_gb = RandomizedSearchCV(estimator=model_gb, param_distributions=params_gb, scoring='roc_auc', cv=2, random_state=seed)\n",
    "rs_gb.fit(features_train_resampled[selected_features_gb], target_train_resampled)\n",
    "\n",
    "# Obtener el mejor modelo encontrado por RandomizedSearchCV para Gradient Boosting\n",
    "best_random_gb = rs_gb.best_estimator_\n",
    "print(best_random_gb)\n",
    "\n",
    "# Guardar el mejor modelo encontrado\n",
    "joblib.dump(best_random_gb, 'models/best_random_gb.joblib')"
   ]
  },
  {
   "cell_type": "markdown",
   "metadata": {},
   "source": [
    "# Evaluación y Comparación con Logistic Regression"
   ]
  },
  {
   "cell_type": "markdown",
   "metadata": {},
   "source": [
    "Evaluaremos el modelo Gradient Boosting en el conjunto de prueba y compararemos las métricas con las obtenidas por Logistic Regression."
   ]
  },
  {
   "cell_type": "code",
   "execution_count": null,
   "metadata": {},
   "outputs": [],
   "source": [
    "# Predecir con el mejor modelo Gradient Boosting en el conjunto de prueba\n",
    "prediction_gb = best_random_gb.predict(features_test[selected_features_gb])"
   ]
  },
  {
   "cell_type": "code",
   "execution_count": null,
   "metadata": {},
   "outputs": [],
   "source": [
    "# Calcular métricas de evaluación para Gradient Boosting\n",
    "gb_accuracy = accuracy_score(target_test, prediction_gb)\n",
    "gb_f1_score = f1_score(target_test, prediction_gb)\n",
    "gb_roc_auc = roc_auc_score(target_test, prediction_gb)"
   ]
  },
  {
   "cell_type": "code",
   "execution_count": null,
   "metadata": {},
   "outputs": [],
   "source": [
    "# Imprimir métricas para Gradient Boosting\n",
    "print(\"Gradient Boosting Metrics:\")\n",
    "print(\"Accuracy:\", gb_accuracy)\n",
    "print(\"F1 Score:\", gb_f1_score)\n",
    "print(\"ROC AUC Score:\", gb_roc_auc)"
   ]
  },
  {
   "cell_type": "code",
   "execution_count": null,
   "metadata": {},
   "outputs": [],
   "source": [
    "# Imprimir métricas para Logistic Regression (best_random_lr)\n",
    "print(\"\\nLogistic Regression Metrics:\")\n",
    "print(\"Accuracy:\", random_accuracy)\n",
    "print(\"F1 Score:\", random_f1_score)\n",
    "print(\"ROC AUC Score:\", random_roc_auc)"
   ]
  },
  {
   "cell_type": "markdown",
   "metadata": {},
   "source": [
    "# Conclusiones del Análisis de Modelos \n",
    "\n",
    "El código implementado realiza un análisis exploratorio detallado y preprocesamiento robusto de datos. Utiliza múltiples modelos de aprendizaje automático como RandomForest, LGBM, Logistic Regression y Gradient Boosting, optimizando hiperparámetros con RandomizedSearchCV. Evalúa el rendimiento con métricas clave como precisión, F1 y ROC AUC para predecir el abandono del servicio. Los mejores modelos se guardan para futuros análisis, demostrando un enfoque estructurado y efectivo para cumplir con los requisitos del proyecto y lograr objetivos de puntuación de historia.\n",
    "\n",
    "## Mejor Modelo de Clasificación: Regresión Logística\n",
    "\n",
    "Tras realizar un análisis exhaustivo de varios modelos de Machine Learning, se encontró que *la Regresión Logística con los parámetros C=0.033 y solver='liblinear' fue el que mejor se ajustó a nuestros datos para clasificar las personas que cancelan.*\n",
    "\n",
    "Rendimiento del Mejor Modelo\n",
    "\n",
    "La Regresión Logística logró una métrica ROC AUC de 0.75 y una exactitud (accuracy) de 0.74 en el conjunto de prueba. Estas métricas indican que el modelo tiene una buena capacidad para distinguir entre las clases positiva y negativa.\n",
    "Comparación con Otros Modelos\n",
    "\n",
    "Gradient Boosting: Aunque ofreció un rendimiento sólido con una métrica ROC AUC de 0.76 y una exactitud de 0.74, la Regresión Logística se mostró mejor en términos de ROC AUC y exactitud.\n",
    "\n",
    "LGM Classifier: Mostró una exactitud de 0.73, un F1-score de 0.60 y un ROC AUC de 0.74, siendo una opción competitiva pero ligeramente inferior a Random Forest en términos de ROC AUC.\n"
   ]
  }
 ],
 "metadata": {
  "kernelspec": {
   "display_name": "Python 3",
   "language": "python",
   "name": "python3"
  },
  "language_info": {
   "codemirror_mode": {
    "name": "ipython",
    "version": 3
   },
   "file_extension": ".py",
   "mimetype": "text/x-python",
   "name": "python",
   "nbconvert_exporter": "python",
   "pygments_lexer": "ipython3",
   "version": "3.11.9"
  }
 },
 "nbformat": 4,
 "nbformat_minor": 2
}
